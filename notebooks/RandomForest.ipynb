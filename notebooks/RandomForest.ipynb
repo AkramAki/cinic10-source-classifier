{
 "cells": [
  {
   "cell_type": "code",
   "execution_count": 1,
   "id": "b5eb96f3-b736-4f43-aeab-be952ace46e1",
   "metadata": {},
   "outputs": [
    {
     "name": "stderr",
     "output_type": "stream",
     "text": [
      "2025-07-16 13:25:57.457112: I external/local_xla/xla/tsl/cuda/cudart_stub.cc:32] Could not find cuda drivers on your machine, GPU will not be used.\n",
      "2025-07-16 13:25:57.460939: I external/local_xla/xla/tsl/cuda/cudart_stub.cc:32] Could not find cuda drivers on your machine, GPU will not be used.\n",
      "2025-07-16 13:25:57.472480: E external/local_xla/xla/stream_executor/cuda/cuda_fft.cc:477] Unable to register cuFFT factory: Attempting to register factory for plugin cuFFT when one has already been registered\n",
      "WARNING: All log messages before absl::InitializeLog() is called are written to STDERR\n",
      "E0000 00:00:1752665157.490892  644369 cuda_dnn.cc:8310] Unable to register cuDNN factory: Attempting to register factory for plugin cuDNN when one has already been registered\n",
      "E0000 00:00:1752665157.496392  644369 cuda_blas.cc:1418] Unable to register cuBLAS factory: Attempting to register factory for plugin cuBLAS when one has already been registered\n",
      "2025-07-16 13:25:57.516423: I tensorflow/core/platform/cpu_feature_guard.cc:210] This TensorFlow binary is optimized to use available CPU instructions in performance-critical operations.\n",
      "To enable the following instructions: AVX2 FMA, in other operations, rebuild TensorFlow with the appropriate compiler flags.\n"
     ]
    }
   ],
   "source": [
    "from sklearn.ensemble import RandomForestClassifier\n",
    "from sklearn.metrics import accuracy_score\n",
    "from sklearn.metrics import classification_report, confusion_matrix\n",
    "\n",
    "import numpy as np\n",
    "import seaborn as sns\n",
    "import matplotlib.pyplot as plt\n",
    "\n",
    "import os\n",
    "import multiprocessing\n",
    "from pathlib import Path\n",
    "import itertools\n",
    "from tqdm import tqdm\n",
    "\n",
    "from utils.DomainImageGenerator import DomainImageGenerator"
   ]
  },
  {
   "cell_type": "code",
   "execution_count": 2,
   "id": "478eefa7-3f52-4262-a9b8-1edb89411de5",
   "metadata": {},
   "outputs": [],
   "source": [
    "cpu_count = multiprocessing.cpu_count()\n",
    "n_jobs = int(cpu_count * 0.9) # Just set to use some percent of cpus"
   ]
  },
  {
   "cell_type": "code",
   "execution_count": 3,
   "id": "5e71871d-56de-4aca-ab5a-3bf616b44b01",
   "metadata": {},
   "outputs": [
    {
     "name": "stderr",
     "output_type": "stream",
     "text": [
      "Loading images: 100%|███████████████████| 90000/90000 [01:00<00:00, 1487.20it/s]\n",
      "Loading images: 100%|███████████████████| 90000/90000 [00:54<00:00, 1644.76it/s]\n",
      "Loading images: 100%|███████████████████| 90000/90000 [00:51<00:00, 1734.24it/s]\n"
     ]
    }
   ],
   "source": [
    "train_gen = DomainImageGenerator(\"prepared/train.csv\", batch_size=64, img_size=(32, 32), shuffle=False, n_jobs=n_jobs) # \"batch_size=64, img_size=(32, 32), shuffle=True]\" are the default values\n",
    "val_gen = DomainImageGenerator(\"prepared/valid.csv\", batch_size=64, img_size=(32, 32), shuffle=False, n_jobs=n_jobs)\n",
    "test_gen = DomainImageGenerator(\"prepared/test.csv\", batch_size=64, img_size=(32, 32), shuffle=False, n_jobs=n_jobs)\n",
    "\n",
    "\n",
    "train_gen.shuffle_indexes()\n",
    "train_indexes = train_gen.return_Indexes()\n",
    "X_train = train_gen.return_Img_by_Index(train_indexes)\n",
    "y_train = train_gen.return_Label_by_Index(train_indexes)\n",
    "\n",
    "val_gen.shuffle_indexes()\n",
    "val_indexes = val_gen.return_Indexes()\n",
    "X_val = val_gen.return_Img_by_Index(val_indexes)\n",
    "y_val = val_gen.return_Label_by_Index(val_indexes)\n",
    "\n",
    "test_gen.shuffle_indexes()\n",
    "test_indexes = test_gen.return_Indexes()\n",
    "X_test = test_gen.return_Img_by_Index(test_indexes)\n",
    "y_test = test_gen.return_Label_by_Index(test_indexes)"
   ]
  },
  {
   "cell_type": "code",
   "execution_count": 4,
   "id": "00c0fc5e-b8a4-409b-bcff-4756a522771e",
   "metadata": {},
   "outputs": [],
   "source": [
    "X_train_flat = X_train.reshape(X_train.shape[0], -1)\n",
    "X_val_flat = X_val.reshape(X_val.shape[0], -1)\n",
    "X_test_flat = X_test.reshape(X_val.shape[0], -1)\n",
    "\n",
    "X_combined_train_flat = np.concatenate([X_train_flat, X_val_flat])\n",
    "y_combined_train = np.concatenate([y_train, y_val])"
   ]
  },
  {
   "cell_type": "markdown",
   "id": "1574dc8b-0c6b-41df-8808-b3b7947e04c0",
   "metadata": {},
   "source": [
    "Already tested:  \n",
    "param_grid = {\n",
    "    \"n_estimators\": [100, 150],\n",
    "    \"max_depth\": [None, 10, 20],\n",
    "    \"min_samples_split\": [2, 5, 10],\n",
    "    \"max_features\": [\"sqrt\", \"log2\"],\n",
    "    \"criterion\": [\"gini\", \"entropy\", \"log_loss\"]\n",
    "}\n",
    "\n",
    "output  \n",
    "Model 1: Accuracy = 0.7853\n",
    "Params:\n",
    "  n_estimators: 100\n",
    "  max_depth: 20\n",
    "  min_samples_split: 5\n",
    "  max_features: sqrt\n",
    "  criterion: entropy\n",
    "    \n",
    "\n",
    "Model 2: Accuracy = 0.7853\n",
    "Params:\n",
    "  n_estimators: 100\n",
    "  max_depth: 20\n",
    "  min_samples_split: 5\n",
    "  max_features: sqrt\n",
    "  criterion: log_loss\n",
    "\n",
    "Model 3: Accuracy = 0.7852\n",
    "Params:\n",
    "  n_estimators: 100\n",
    "  max_depth: 20\n",
    "  min_samples_split: 10\n",
    "  max_features: sqrt\n",
    "  criterion: entropy"
   ]
  },
  {
   "cell_type": "code",
   "execution_count": 5,
   "id": "feabbbe4-4e53-4e12-a357-7b4ecd52a02f",
   "metadata": {},
   "outputs": [
    {
     "name": "stderr",
     "output_type": "stream",
     "text": [
      "Training models: 100%|████████████████████████████| 1/1 [00:44<00:00, 44.24s/it]"
     ]
    },
    {
     "name": "stdout",
     "output_type": "stream",
     "text": [
      "\n",
      "Top 3 Random Forest Configurations:\n",
      "\n",
      "Model 1: Accuracy = 0.7853\n",
      "Params:\n",
      "  n_estimators: 100\n",
      "  max_depth: 20\n",
      "  min_samples_split: 5\n",
      "  max_features: sqrt\n",
      "  criterion: entropy\n"
     ]
    },
    {
     "name": "stderr",
     "output_type": "stream",
     "text": [
      "\n"
     ]
    }
   ],
   "source": [
    "# Define search space \n",
    "param_grid = {\n",
    "    \"n_estimators\": [100],\n",
    "    \"max_depth\": [20, 30],\n",
    "    \"min_samples_split\": [5, 10],\n",
    "    \"max_features\": [\"sqrt\"],\n",
    "    \"criterion\": [\"entropy\", \"log_loss\"]\n",
    "}\n",
    "\n",
    "# This for just using one\n",
    "param_grid = {\n",
    "    \"n_estimators\": [100],\n",
    "    \"max_depth\": [20],\n",
    "    \"min_samples_split\": [5],\n",
    "    \"max_features\": [\"sqrt\"],\n",
    "    \"criterion\": [\"entropy\"]\n",
    "}\n",
    "\n",
    "# Track best models\n",
    "results = []\n",
    "\n",
    "# Create all parameter combinations\n",
    "param_combos = list(itertools.product(\n",
    "    param_grid[\"n_estimators\"],\n",
    "    param_grid[\"max_depth\"],\n",
    "    param_grid[\"min_samples_split\"],\n",
    "    param_grid[\"max_features\"],\n",
    "    param_grid[\"criterion\"]\n",
    "))\n",
    "\n",
    "# Search\n",
    "for n_estimators, max_depth, min_samples_split, max_features, criterion in tqdm(param_combos, desc=\"Training models\"):\n",
    "\n",
    "    clf = RandomForestClassifier(\n",
    "        n_estimators=n_estimators,\n",
    "        max_depth=max_depth,\n",
    "        min_samples_split=min_samples_split,\n",
    "        max_features=max_features,\n",
    "        criterion=criterion,\n",
    "        n_jobs=n_jobs,\n",
    "        random_state=42\n",
    "    )\n",
    "\n",
    "    clf.fit(X_combined_train_flat, y_combined_train)\n",
    "    y_pred = clf.predict(X_test_flat)\n",
    "    acc = accuracy_score(y_test, y_pred)\n",
    "\n",
    "    results.append({\n",
    "        \"accuracy\": acc,\n",
    "        \"params\": {\n",
    "            \"n_estimators\": n_estimators,\n",
    "            \"max_depth\": max_depth,\n",
    "            \"min_samples_split\": min_samples_split,\n",
    "            \"max_features\": max_features,\n",
    "            \"criterion\": criterion\n",
    "        },\n",
    "        \"model\": clf\n",
    "    })\n",
    "\n",
    "# Sort by accuracy\n",
    "results.sort(key=lambda x: x[\"accuracy\"], reverse=True)\n",
    "\n",
    "# Show top 3\n",
    "print(\"\\nTop 3 Random Forest Configurations:\")\n",
    "for i, result in enumerate(results[:3], 1):\n",
    "    print(f\"\\nModel {i}: Accuracy = {result['accuracy']:.4f}\")\n",
    "    print(\"Params:\")\n",
    "    for k, v in result[\"params\"].items():\n",
    "        print(f\"  {k}: {v}\")"
   ]
  },
  {
   "cell_type": "code",
   "execution_count": 6,
   "id": "366ceee0-e29d-4394-a2b5-d3ff129104cb",
   "metadata": {},
   "outputs": [],
   "source": [
    "model1 = results[0][\"model\"]"
   ]
  },
  {
   "cell_type": "code",
   "execution_count": 7,
   "id": "bade654a-57ef-42aa-be8b-f21e80eeb82c",
   "metadata": {},
   "outputs": [],
   "source": [
    "y_pred = model1.predict(X_test_flat)"
   ]
  },
  {
   "cell_type": "code",
   "execution_count": 8,
   "id": "130822a0-fff0-49c3-9426-e9f11bd79304",
   "metadata": {},
   "outputs": [
    {
     "name": "stdout",
     "output_type": "stream",
     "text": [
      "              precision    recall  f1-score   support\n",
      "\n",
      "    CIFAR-10       0.92      0.04      0.07     20000\n",
      "    ImageNet       0.78      1.00      0.88     70000\n",
      "\n",
      "    accuracy                           0.79     90000\n",
      "   macro avg       0.85      0.52      0.47     90000\n",
      "weighted avg       0.81      0.79      0.70     90000\n",
      "\n"
     ]
    }
   ],
   "source": [
    "print(classification_report(y_test, y_pred, target_names=[\"CIFAR-10\", \"ImageNet\"]))"
   ]
  },
  {
   "cell_type": "code",
   "execution_count": 9,
   "id": "47ef9709-f696-4c69-ad4c-1c9e07cac00a",
   "metadata": {},
   "outputs": [
    {
     "data": {
      "image/png": "[encoded data removed]",
      "text/plain": [
       "<Figure size 640x480 with 2 Axes>"
      ]
     },
     "metadata": {},
     "output_type": "display_data"
    }
   ],
   "source": [
    "cm = confusion_matrix(y_test, y_pred)\n",
    "sns.heatmap(cm, annot=True, fmt=\"d\", cmap=\"Blues\",\n",
    "            xticklabels=[\"Pred: CIFAR-10\", \"Pred: ImageNet\"],\n",
    "            yticklabels=[\"True: CIFAR-10\", \"True: ImageNet\"])\n",
    "plt.title(\"Confusion Matrix\")\n",
    "plt.xlabel(\"Predicted\")\n",
    "plt.ylabel(\"True\")\n",
    "plt.show()"
   ]
  }
 ],
 "metadata": {
  "kernelspec": {
   "display_name": "Python 3 (ipykernel)",
   "language": "python",
   "name": "python3"
  },
  "language_info": {
   "codemirror_mode": {
    "name": "ipython",
    "version": 3
   },
   "file_extension": ".py",
   "mimetype": "text/x-python",
   "name": "python",
   "nbconvert_exporter": "python",
   "pygments_lexer": "ipython3",
   "version": "3.12.11"
  }
 },
 "nbformat": 4,
 "nbformat_minor": 5
}
