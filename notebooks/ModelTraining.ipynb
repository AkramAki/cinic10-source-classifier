{
 "cells": [
  {
   "cell_type": "markdown",
   "id": "4fae981d",
   "metadata": {},
   "source": [
    "Not Sure if we want to have a notebook for each model that we want to train or one notebook that trains the models. Maybe even one notebook that prepares the data, stores the preperations and then each notbook only needs to load that and train the models. Then store them in the models folder with a good descriptive name. We would then have a notebook which only evaluates the models my loading them from the models folder and then uses evaluation functions that we predefine in the utils folder after testing them inside of the notebooks."
   ]
  }
 ],
 "metadata": {
  "language_info": {
   "name": "python"
  }
 },
 "nbformat": 4,
 "nbformat_minor": 5
}
