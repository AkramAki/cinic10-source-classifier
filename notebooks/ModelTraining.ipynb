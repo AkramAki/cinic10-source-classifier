{
 "cells": [
  {
   "cell_type": "markdown",
   "id": "4fae981d",
   "metadata": {},
   "source": [
    "Not Sure if we want to have a notebook for each model that we want to train or one notebook that trains the models. Maybe even one notebook that prepares the data, stores the preperations and then each notbook only needs to load that and train the models. Then store them in the models folder with a good descriptive name. We would then have a notebook which only evaluates the models my loading them from the models folder and then uses evaluation functions that we predefine in the utils folder after testing them inside of the notebooks."
   ]
  },
  {
   "cell_type": "code",
   "execution_count": 2,
   "id": "84617cb8-720e-4252-83f7-b538674b93e7",
   "metadata": {},
   "outputs": [
    {
     "name": "stdout",
     "output_type": "stream",
     "text": [
      "TensorFlow version: 2.18.0\n",
      "Num GPUs Available:  0\n"
     ]
    }
   ],
   "source": [
    "import tensorflow as tf\n",
    "print(\"TensorFlow version:\", tf.__version__)\n",
    "print(\"Num GPUs Available: \", len(tf.config.list_physical_devices('GPU')))"
   ]
  },
  {
   "cell_type": "code",
   "execution_count": 3,
   "id": "749fbed5-5d2f-40ec-b49a-cf220b9f26e6",
   "metadata": {},
   "outputs": [
    {
     "name": "stdout",
     "output_type": "stream",
     "text": [
      "[name: \"/device:CPU:0\"\n",
      "device_type: \"CPU\"\n",
      "memory_limit: 268435456\n",
      "locality {\n",
      "}\n",
      "incarnation: 9389619429445813018\n",
      "xla_global_id: -1\n",
      "]\n"
     ]
    }
   ],
   "source": [
    "from tensorflow.python.client import device_lib\n",
    "print(device_lib.list_local_devices())"
   ]
  }
 ],
 "metadata": {
  "kernelspec": {
   "display_name": "Python 3 (ipykernel)",
   "language": "python",
   "name": "python3"
  },
  "language_info": {
   "codemirror_mode": {
    "name": "ipython",
    "version": 3
   },
   "file_extension": ".py",
   "mimetype": "text/x-python",
   "name": "python",
   "nbconvert_exporter": "python",
   "pygments_lexer": "ipython3",
   "version": "3.12.11"
  }
 },
 "nbformat": 4,
 "nbformat_minor": 5
}
