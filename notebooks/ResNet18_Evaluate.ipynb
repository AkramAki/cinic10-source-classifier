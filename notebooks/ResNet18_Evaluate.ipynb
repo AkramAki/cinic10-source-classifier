{
 "cells": [
  {
   "cell_type": "code",
   "execution_count": 1,
   "id": "6c1cc0e9-44f5-42c7-9705-f8305ee4252e",
   "metadata": {},
   "outputs": [
    {
     "name": "stderr",
     "output_type": "stream",
     "text": [
      "2025-07-14 09:36:48.270405: I external/local_xla/xla/tsl/cuda/cudart_stub.cc:32] Could not find cuda drivers on your machine, GPU will not be used.\n",
      "2025-07-14 09:36:48.273975: I external/local_xla/xla/tsl/cuda/cudart_stub.cc:32] Could not find cuda drivers on your machine, GPU will not be used.\n",
      "2025-07-14 09:36:48.284891: E external/local_xla/xla/stream_executor/cuda/cuda_fft.cc:477] Unable to register cuFFT factory: Attempting to register factory for plugin cuFFT when one has already been registered\n",
      "WARNING: All log messages before absl::InitializeLog() is called are written to STDERR\n",
      "E0000 00:00:1752478608.302942  572736 cuda_dnn.cc:8310] Unable to register cuDNN factory: Attempting to register factory for plugin cuDNN when one has already been registered\n",
      "E0000 00:00:1752478608.308444  572736 cuda_blas.cc:1418] Unable to register cuBLAS factory: Attempting to register factory for plugin cuBLAS when one has already been registered\n",
      "2025-07-14 09:36:48.327410: I tensorflow/core/platform/cpu_feature_guard.cc:210] This TensorFlow binary is optimized to use available CPU instructions in performance-critical operations.\n",
      "To enable the following instructions: AVX2 FMA, in other operations, rebuild TensorFlow with the appropriate compiler flags.\n"
     ]
    }
   ],
   "source": [
    "from tensorflow.keras.models import load_model\n",
    "from tensorflow.keras.models import model_from_json\n",
    "\n",
    "import json\n",
    "\n",
    "import pandas as pd\n",
    "import numpy as np\n",
    "import matplotlib.pyplot as plt\n",
    "import seaborn as sns\n",
    "import tqdm\n",
    "\n",
    "from sklearn.metrics import classification_report, confusion_matrix\n",
    "\n",
    "import multiprocessing\n",
    "\n",
    "from utils.DomainImageGenerator import DomainImageGenerator"
   ]
  },
  {
   "cell_type": "code",
   "execution_count": 2,
   "id": "b929736d-2ff5-4d42-a39e-d08fa51d8857",
   "metadata": {},
   "outputs": [
    {
     "name": "stderr",
     "output_type": "stream",
     "text": [
      "2025-07-14 09:36:51.199007: E external/local_xla/xla/stream_executor/cuda/cuda_driver.cc:152] failed call to cuInit: INTERNAL: CUDA error: Failed call to cuInit: UNKNOWN ERROR (303)\n",
      "/scratch/aaki/envs/ml/lib/python3.12/site-packages/keras/src/saving/saving_lib.py:802: UserWarning: Skipping variable loading for optimizer 'adam', because it has 166 variables whereas the saved optimizer has 147 variables. \n",
      "  saveable.load_own_variables(weights_store.get(inner_path))\n"
     ]
    }
   ],
   "source": [
    "# Load the Dataset as Generators so not all images are loaded into ram at the same time. The generator class loads the needed images per batch\n",
    "cpu_count = multiprocessing.cpu_count()\n",
    "njobs = int(cpu_count * 0.9) # Just set to use some percent of cpus\n",
    "max_queue_size = 15\n",
    "use_multiprocessing = True\n",
    "\n",
    "with open('../models/ResNet18_config.json') as f:\n",
    "    config = json.load(f)\n",
    "model = model_from_json(config)\n",
    "model.load_weights(\"../models/ResNet18.weights.json\")\n",
    "\n",
    "# model = load_model(\"../models/ResNet18.keras\")\n",
    "test_gen = DomainImageGenerator(\"prepared/test.csv\", batch_size=64, shuffle=False, n_jobs=njobs, use_multiprocessing=use_multiprocessing, max_queue_size=max_queue_size)"
   ]
  },
  {
   "cell_type": "code",
   "execution_count": 3,
   "id": "582d4776-fa00-4b5c-b1a6-880ceb7f5154",
   "metadata": {},
   "outputs": [
    {
     "name": "stdout",
     "output_type": "stream",
     "text": [
      "\u001b[1m1407/1407\u001b[0m \u001b[32m━━━━━━━━━━━━━━━━━━━━\u001b[0m\u001b[37m\u001b[0m \u001b[1m121s\u001b[0m 85ms/step - accuracy: 0.9899 - loss: 0.0434\n",
      "Test Accuracy: 0.9926\n",
      "Test Loss: 0.0307\n"
     ]
    }
   ],
   "source": [
    "test_loss, test_acc = model.evaluate(test_gen)\n",
    "print(f\"Test Accuracy: {test_acc:.4f}\")\n",
    "print(f\"Test Loss: {test_loss:.4f}\")"
   ]
  },
  {
   "cell_type": "code",
   "execution_count": 4,
   "id": "ecef1ffb-7a39-49ab-9bad-2cac1a2bac08",
   "metadata": {},
   "outputs": [
    {
     "name": "stdout",
     "output_type": "stream",
     "text": [
      "\u001b[1m1407/1407\u001b[0m \u001b[32m━━━━━━━━━━━━━━━━━━━━\u001b[0m\u001b[37m\u001b[0m \u001b[1m119s\u001b[0m 84ms/step\n"
     ]
    }
   ],
   "source": [
    "# Shuffle needs to be off for this to make sense\n",
    "\n",
    "y_true = test_gen.getAllLabels()\n",
    "y_pred = model.predict(test_gen)\n",
    "y_pred_binary = (y_pred > 0.5).astype(int).flatten()"
   ]
  },
  {
   "cell_type": "code",
   "execution_count": 10,
   "id": "cd8609bd-e8c0-4044-96d5-74acd3c91f3a",
   "metadata": {},
   "outputs": [
    {
     "name": "stdout",
     "output_type": "stream",
     "text": [
      "There are 70057 predictions greater then 0.5\n",
      "\n",
      "69986 predictions are greater then 0.6\n",
      "That is 99.9 percent of all predictions greater then 0.5\n",
      "\n",
      "69886 predictions are greater then 0.7\n",
      "That is 99.8 percent of all predictions greater then 0.5\n",
      "\n",
      "69782 predictions are greater then 0.8\n",
      "That is 99.6 percent of all predictions greater then 0.5\n",
      "\n",
      "69580 predictions are greater then 0.9\n",
      "That is 99.3 percent of all predictions greater then 0.5\n",
      "\n",
      "69350 predictions are greater then 0.95\n",
      "That is 99.0 percent of all predictions greater then 0.5\n",
      "\n",
      "68992 predictions are greater then 0.98\n",
      "That is 98.5 percent of all predictions greater then 0.5\n",
      "\n",
      "68353 predictions are greater then 0.995\n",
      "That is 97.6 percent of all predictions greater then 0.5\n"
     ]
    }
   ],
   "source": [
    "y_greater = y_pred[(y_pred > 0.5)]\n",
    "predictions_greater_half = len(y_greater)\n",
    "\n",
    "values = [0.6, 0.7, 0.8, 0.9, 0.95, 0.98, 0.995]\n",
    "print(f\"There are {predictions_greater_half} predictions greater then 0.5\")\n",
    "for num in values:\n",
    "    y_greater_num = y_greater[(y_greater > num)]\n",
    "    print(f\"\\n{len(y_greater_num)} predictions are greater then {num}\")\n",
    "    print(f\"That is {(len(y_greater_num)/predictions_greater_half) * 100:.1f} percent of all predictions greater then 0.5\")"
   ]
  },
  {
   "cell_type": "code",
   "execution_count": 6,
   "id": "113af096-ddf0-4902-bdc4-360ae2f113c8",
   "metadata": {},
   "outputs": [
    {
     "name": "stdout",
     "output_type": "stream",
     "text": [
      "There are 19943 predictions less then 0.5\n",
      "\n",
      "19869 predictions are smaller then 0.4\n",
      "That is 99.6 percent of all predictions smaller then 0.5\n",
      "\n",
      "19793 predictions are smaller then 0.3\n",
      "That is 99.2 percent of all predictions smaller then 0.5\n",
      "\n",
      "19711 predictions are smaller then 0.2\n",
      "That is 98.8 percent of all predictions smaller then 0.5\n",
      "\n",
      "19594 predictions are smaller then 0.1\n",
      "That is 98.3 percent of all predictions smaller then 0.5\n",
      "\n",
      "19488 predictions are smaller then 0.05\n",
      "That is 97.7 percent of all predictions smaller then 0.5\n",
      "\n",
      "19333 predictions are smaller then 0.02\n",
      "That is 96.9 percent of all predictions smaller then 0.5\n"
     ]
    }
   ],
   "source": [
    "y_less = y_pred[(y_pred < 0.5)]\n",
    "predictions_less_half = len(y_less)\n",
    "\n",
    "values = [0.4, 0.3, 0.2, 0.1, 0.05, 0.02]\n",
    "print(f\"There are {predictions_less_half} predictions less then 0.5\")\n",
    "for num in values:\n",
    "    y_less_num = y_less[(y_less < num)]\n",
    "    print(f\"\\n{len(y_less_num)} predictions are smaller then {num}\")\n",
    "    print(f\"That is {(len(y_less_num)/predictions_less_half) * 100:.1f} percent of all predictions smaller then 0.5\")"
   ]
  },
  {
   "cell_type": "code",
   "execution_count": 7,
   "id": "cfcbbf90-8698-4984-a957-75681ae8923a",
   "metadata": {},
   "outputs": [
    {
     "name": "stdout",
     "output_type": "stream",
     "text": [
      "              precision    recall  f1-score   support\n",
      "\n",
      "    CIFAR-10       0.98      0.98      0.98     20000\n",
      "    ImageNet       0.99      1.00      1.00     70000\n",
      "\n",
      "    accuracy                           0.99     90000\n",
      "   macro avg       0.99      0.99      0.99     90000\n",
      "weighted avg       0.99      0.99      0.99     90000\n",
      "\n"
     ]
    }
   ],
   "source": [
    "print(classification_report(y_true, y_pred_binary, target_names=[\"CIFAR-10\", \"ImageNet\"]))"
   ]
  },
  {
   "cell_type": "code",
   "execution_count": 8,
   "id": "0053011c-4b09-44cc-a261-dab81f3b73e0",
   "metadata": {},
   "outputs": [
    {
     "data": {
      "image/png": "[encoded data removed]",
      "text/plain": [
       "<Figure size 640x480 with 2 Axes>"
      ]
     },
     "metadata": {},
     "output_type": "display_data"
    }
   ],
   "source": [
    "cm = confusion_matrix(y_true, y_pred_binary)\n",
    "sns.heatmap(cm, annot=True, fmt=\"d\", cmap=\"Blues\",\n",
    "            xticklabels=[\"Pred: CIFAR-10\", \"Pred: ImageNet\"],\n",
    "            yticklabels=[\"True: CIFAR-10\", \"True: ImageNet\"])\n",
    "plt.title(\"Confusion Matrix\")\n",
    "plt.xlabel(\"Predicted\")\n",
    "plt.ylabel(\"True\")\n",
    "plt.show()"
   ]
  }
 ],
 "metadata": {
  "kernelspec": {
   "display_name": "Python 3 (ipykernel)",
   "language": "python",
   "name": "python3"
  },
  "language_info": {
   "codemirror_mode": {
    "name": "ipython",
    "version": 3
   },
   "file_extension": ".py",
   "mimetype": "text/x-python",
   "name": "python",
   "nbconvert_exporter": "python",
   "pygments_lexer": "ipython3",
   "version": "3.12.11"
  }
 },
 "nbformat": 4,
 "nbformat_minor": 5
}
